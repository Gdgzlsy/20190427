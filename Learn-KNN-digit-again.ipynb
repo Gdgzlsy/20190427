{
 "cells": [
  {
   "cell_type": "code",
   "execution_count": 2,
   "metadata": {},
   "outputs": [],
   "source": [
    "import numpy as np\n",
    "from sklearn import datasets\n"
   ]
  },
  {
   "cell_type": "code",
   "execution_count": 6,
   "metadata": {},
   "outputs": [],
   "source": [
    "digit = datasets.load_digits()"
   ]
  },
  {
   "cell_type": "code",
   "execution_count": 7,
   "metadata": {},
   "outputs": [],
   "source": [
    "X = digit.data\n",
    "y = digit.target"
   ]
  },
  {
   "cell_type": "code",
   "execution_count": 9,
   "metadata": {},
   "outputs": [
    {
     "data": {
      "text/plain": [
       "dtype('int32')"
      ]
     },
     "execution_count": 9,
     "metadata": {},
     "output_type": "execute_result"
    }
   ],
   "source": [
    "X.shape\n",
    "\n",
    "y.shape\n",
    "\n",
    "X.dtype\n",
    "\n",
    "y.dtype"
   ]
  },
  {
   "cell_type": "code",
   "execution_count": 10,
   "metadata": {},
   "outputs": [
    {
     "data": {
      "text/plain": [
       "(1797, 64)"
      ]
     },
     "execution_count": 10,
     "metadata": {},
     "output_type": "execute_result"
    }
   ],
   "source": [
    "X.shape"
   ]
  },
  {
   "cell_type": "code",
   "execution_count": 11,
   "metadata": {},
   "outputs": [
    {
     "data": {
      "text/plain": [
       "(1797,)"
      ]
     },
     "execution_count": 11,
     "metadata": {},
     "output_type": "execute_result"
    }
   ],
   "source": [
    "y.shape"
   ]
  },
  {
   "cell_type": "code",
   "execution_count": 12,
   "metadata": {},
   "outputs": [
    {
     "data": {
      "text/plain": [
       "dtype('int32')"
      ]
     },
     "execution_count": 12,
     "metadata": {},
     "output_type": "execute_result"
    }
   ],
   "source": [
    "y.dtype"
   ]
  },
  {
   "cell_type": "code",
   "execution_count": 58,
   "metadata": {},
   "outputs": [
    {
     "data": {
      "text/plain": [
       "(64,)"
      ]
     },
     "execution_count": 58,
     "metadata": {},
     "output_type": "execute_result"
    }
   ],
   "source": [
    "X[1].shape"
   ]
  },
  {
   "cell_type": "code",
   "execution_count": 14,
   "metadata": {},
   "outputs": [
    {
     "data": {
      "text/plain": [
       "array([[ 0.,  0.,  0., 12., 13.,  5.,  0.,  0.],\n",
       "       [ 0.,  0.,  0., 11., 16.,  9.,  0.,  0.],\n",
       "       [ 0.,  0.,  3., 15., 16.,  6.,  0.,  0.],\n",
       "       [ 0.,  7., 15., 16., 16.,  2.,  0.,  0.],\n",
       "       [ 0.,  0.,  1., 16., 16.,  3.,  0.,  0.],\n",
       "       [ 0.,  0.,  1., 16., 16.,  6.,  0.,  0.],\n",
       "       [ 0.,  0.,  1., 16., 16.,  6.,  0.,  0.],\n",
       "       [ 0.,  0.,  0., 11., 16., 10.,  0.,  0.]])"
      ]
     },
     "execution_count": 14,
     "metadata": {},
     "output_type": "execute_result"
    }
   ],
   "source": [
    "X[1].reshape(8,8)"
   ]
  },
  {
   "cell_type": "code",
   "execution_count": 15,
   "metadata": {},
   "outputs": [],
   "source": [
    "from sklearn.model_selection import train_test_split\n",
    "\n",
    "X_train,X_test,y_train,y_test = train_test_split(X,y,test_size= 0.2,random_state=19)"
   ]
  },
  {
   "cell_type": "code",
   "execution_count": 16,
   "metadata": {},
   "outputs": [
    {
     "data": {
      "text/plain": [
       "(1437, 64)"
      ]
     },
     "execution_count": 16,
     "metadata": {},
     "output_type": "execute_result"
    }
   ],
   "source": [
    "X_train.shape\n"
   ]
  },
  {
   "cell_type": "code",
   "execution_count": 17,
   "metadata": {},
   "outputs": [
    {
     "data": {
      "text/plain": [
       "(360, 64)"
      ]
     },
     "execution_count": 17,
     "metadata": {},
     "output_type": "execute_result"
    }
   ],
   "source": [
    "X_test.shape"
   ]
  },
  {
   "cell_type": "code",
   "execution_count": 19,
   "metadata": {},
   "outputs": [
    {
     "data": {
      "text/plain": [
       "(1437,)"
      ]
     },
     "execution_count": 19,
     "metadata": {},
     "output_type": "execute_result"
    }
   ],
   "source": [
    "y_train.shape"
   ]
  },
  {
   "cell_type": "code",
   "execution_count": 20,
   "metadata": {},
   "outputs": [
    {
     "data": {
      "text/plain": [
       "(360,)"
      ]
     },
     "execution_count": 20,
     "metadata": {},
     "output_type": "execute_result"
    }
   ],
   "source": [
    "y_test.shape"
   ]
  },
  {
   "cell_type": "code",
   "execution_count": 25,
   "metadata": {},
   "outputs": [
    {
     "name": "stdout",
     "output_type": "stream",
     "text": [
      "(1437, 64)\n",
      "(360, 64)\n",
      "float64\n",
      "float64\n"
     ]
    }
   ],
   "source": [
    "from sklearn.preprocessing import StandardScaler\n",
    "stardard =  StandardScaler()\n",
    "stardard.fit(X_train) # 算出 X_train 的 均值 和 方差 \n",
    "\n",
    "X_train_transform = stardard.transform(X_train) # \n",
    "X_test_transform = stardard.transform(X_test)\n",
    "\n",
    "print(X_train_transform.shape)\n",
    "print(X_test_transform.shape)\n",
    "print(X_train_transform.dtype)\n",
    "print(X_test_transform.dtype)"
   ]
  },
  {
   "cell_type": "code",
   "execution_count": 31,
   "metadata": {},
   "outputs": [
    {
     "data": {
      "text/plain": [
       "KNeighborsClassifier(algorithm='auto', leaf_size=30, metric='minkowski',\n",
       "           metric_params=None, n_jobs=None, n_neighbors=3, p=2,\n",
       "           weights='uniform')"
      ]
     },
     "execution_count": 31,
     "metadata": {},
     "output_type": "execute_result"
    }
   ],
   "source": [
    "from sklearn.neighbors import KNeighborsClassifier\n",
    "knn_clf = KNeighborsClassifier(n_neighbors=3)\n",
    "\n",
    "knn_clf.fit(X_train_transform,y_train)"
   ]
  },
  {
   "cell_type": "code",
   "execution_count": 32,
   "metadata": {},
   "outputs": [
    {
     "data": {
      "text/plain": [
       "0.9805555555555555"
      ]
     },
     "execution_count": 32,
     "metadata": {},
     "output_type": "execute_result"
    }
   ],
   "source": [
    "score = knn_clf.score(X_test_transform,y_test)\n",
    "score"
   ]
  },
  {
   "cell_type": "code",
   "execution_count": 33,
   "metadata": {},
   "outputs": [
    {
     "data": {
      "text/plain": [
       "array([7, 4, 7, 0, 5, 5, 3, 5, 7, 2, 4, 8, 8, 0, 3, 0, 2, 8, 2, 3, 0, 9,\n",
       "       1, 1, 7, 4, 1, 1, 7, 5, 4, 6, 2, 7, 5, 9, 0, 3, 7, 6, 9, 6, 1, 3,\n",
       "       2, 4, 0, 8, 9, 4, 1, 7, 3, 9, 7, 5, 4, 2, 7, 9, 3, 4, 6, 7, 7, 8,\n",
       "       4, 8, 1, 5, 7, 8, 3, 6, 9, 8, 3, 5, 4, 2, 9, 8, 9, 3, 8, 5, 6, 2,\n",
       "       2, 4, 1, 1, 5, 5, 3, 8, 2, 5, 3, 0, 3, 5, 3, 9, 1, 0, 2, 4, 3, 8,\n",
       "       4, 4, 9, 6, 1, 1, 8, 0, 6, 5, 8, 5, 1, 1, 6, 1, 0, 4, 3, 2, 8, 3,\n",
       "       9, 3, 7, 2, 8, 7, 7, 4, 0, 1, 5, 0, 6, 0, 2, 4, 2, 6, 3, 1, 3, 0,\n",
       "       2, 9, 9, 9, 7, 1, 8, 4, 1, 4, 5, 9, 1, 0, 6, 4, 1, 8, 3, 4, 0, 3,\n",
       "       0, 9, 1, 5, 6, 0, 5, 2, 8, 9, 5, 2, 7, 4, 2, 7, 6, 9, 2, 8, 6, 6,\n",
       "       5, 4, 6, 7, 0, 5, 9, 3, 9, 2, 7, 6, 8, 9, 0, 6, 7, 2, 6, 1, 4, 1,\n",
       "       7, 1, 2, 0, 5, 0, 3, 0, 2, 2, 7, 4, 6, 8, 6, 6, 5, 8, 9, 5, 7, 6,\n",
       "       7, 0, 5, 1, 3, 7, 2, 7, 9, 8, 3, 7, 3, 2, 9, 1, 1, 1, 4, 2, 2, 7,\n",
       "       3, 9, 7, 8, 6, 0, 8, 3, 3, 9, 9, 1, 5, 0, 6, 6, 6, 5, 8, 7, 7, 4,\n",
       "       6, 1, 8, 5, 3, 1, 2, 4, 7, 4, 9, 9, 5, 6, 6, 9, 0, 3, 3, 3, 8, 2,\n",
       "       1, 7, 6, 3, 1, 0, 5, 8, 0, 7, 0, 0, 3, 3, 4, 1, 0, 0, 3, 4, 3, 7,\n",
       "       2, 2, 2, 2, 1, 6, 8, 5, 0, 1, 3, 6, 2, 1, 7, 9, 0, 2, 1, 2, 1, 6,\n",
       "       7, 6, 2, 7, 7, 5, 5, 2])"
      ]
     },
     "execution_count": 33,
     "metadata": {},
     "output_type": "execute_result"
    }
   ],
   "source": [
    "y_prediction = knn_clf.predict(X_test_transform)\n",
    "y_prediction"
   ]
  },
  {
   "cell_type": "code",
   "execution_count": 34,
   "metadata": {},
   "outputs": [
    {
     "data": {
      "text/plain": [
       "array([7, 4, 7, 0, 5, 5, 3, 5, 7, 2, 4, 8, 8, 0, 3, 0, 2, 8, 2, 3, 0, 9,\n",
       "       1, 1, 7, 4, 8, 8, 7, 5, 4, 6, 2, 7, 5, 9, 0, 3, 7, 6, 9, 6, 1, 3,\n",
       "       2, 4, 0, 8, 9, 4, 1, 7, 3, 9, 7, 5, 4, 2, 7, 9, 3, 4, 6, 7, 7, 8,\n",
       "       4, 8, 1, 5, 7, 8, 3, 6, 9, 8, 3, 5, 4, 2, 9, 8, 9, 3, 8, 5, 6, 2,\n",
       "       2, 4, 1, 1, 5, 5, 3, 8, 2, 5, 3, 0, 3, 5, 3, 9, 1, 0, 2, 4, 3, 8,\n",
       "       4, 4, 9, 6, 1, 1, 8, 0, 6, 5, 8, 5, 1, 1, 6, 1, 0, 4, 3, 2, 8, 3,\n",
       "       9, 3, 7, 2, 8, 7, 7, 4, 0, 1, 5, 0, 6, 0, 2, 4, 2, 6, 3, 1, 3, 0,\n",
       "       2, 9, 9, 9, 7, 1, 8, 4, 1, 4, 5, 9, 1, 0, 6, 4, 1, 8, 3, 4, 0, 3,\n",
       "       0, 9, 1, 5, 6, 0, 9, 2, 8, 9, 5, 2, 7, 4, 2, 7, 6, 9, 3, 8, 6, 6,\n",
       "       5, 4, 6, 7, 0, 5, 9, 3, 9, 2, 7, 6, 8, 9, 0, 6, 7, 2, 6, 1, 4, 1,\n",
       "       7, 1, 2, 0, 5, 0, 3, 0, 2, 2, 7, 4, 6, 8, 6, 6, 5, 8, 9, 5, 7, 6,\n",
       "       7, 0, 5, 1, 3, 7, 2, 7, 9, 8, 3, 7, 3, 2, 9, 1, 1, 1, 4, 2, 2, 7,\n",
       "       3, 9, 7, 8, 6, 0, 8, 3, 3, 9, 9, 1, 5, 0, 6, 6, 9, 5, 8, 7, 7, 4,\n",
       "       6, 1, 8, 5, 3, 1, 2, 4, 7, 4, 9, 9, 5, 6, 6, 9, 0, 3, 3, 3, 8, 2,\n",
       "       1, 7, 6, 3, 1, 0, 5, 8, 0, 7, 0, 0, 3, 3, 4, 1, 0, 0, 3, 9, 3, 7,\n",
       "       2, 2, 2, 2, 1, 6, 8, 5, 0, 1, 3, 6, 2, 1, 7, 9, 0, 2, 1, 2, 9, 6,\n",
       "       7, 6, 2, 7, 7, 5, 5, 2])"
      ]
     },
     "execution_count": 34,
     "metadata": {},
     "output_type": "execute_result"
    }
   ],
   "source": [
    "y_test"
   ]
  },
  {
   "cell_type": "code",
   "execution_count": 43,
   "metadata": {},
   "outputs": [],
   "source": [
    "def find_best_K(K_range):\n",
    "    best_score = 0\n",
    "    for i in range(1,K_range):\n",
    "        knn_clf = KNeighborsClassifier(n_neighbors=i)\n",
    "        knn_clf.fit(X_train_transform,y_train)\n",
    "        score = knn_clf.score(X_test_transform,y_test)\n",
    "        if score > best_score:\n",
    "            best_score = score\n",
    "            best_k = i;\n",
    "    return best_k,best_score       \n",
    "        "
   ]
  },
  {
   "cell_type": "code",
   "execution_count": 44,
   "metadata": {},
   "outputs": [],
   "source": [
    "best_k,best_score = find_best_K(10)"
   ]
  },
  {
   "cell_type": "code",
   "execution_count": 45,
   "metadata": {},
   "outputs": [
    {
     "name": "stdout",
     "output_type": "stream",
     "text": [
      "3\n",
      "0.9805555555555555\n"
     ]
    }
   ],
   "source": [
    "print(best_k)\n",
    "print(best_score)"
   ]
  },
  {
   "cell_type": "code",
   "execution_count": 59,
   "metadata": {},
   "outputs": [],
   "source": [
    "def find_best_K_method(K_range):\n",
    "    best_score = 0.0\n",
    "    for d in ['uniform','distance']:\n",
    "        for i in range(1,K_range):\n",
    "            knn_clf = KNeighborsClassifier(n_neighbors=i,weights=d)\n",
    "            knn_clf.fit(X_train_transform,y_train)\n",
    "            score = knn_clf.score(X_test_transform,y_test)\n",
    "            if score > best_score:\n",
    "                best_score = score\n",
    "                best_method = d\n",
    "                best_K = i\n",
    "    return best_K,best_score,best_method"
   ]
  },
  {
   "cell_type": "code",
   "execution_count": 60,
   "metadata": {},
   "outputs": [
    {
     "name": "stdout",
     "output_type": "stream",
     "text": [
      "4\n",
      "0.9833333333333333\n",
      "distance\n"
     ]
    }
   ],
   "source": [
    "best_K,best_score,best_method = find_best_K_method(10)\n",
    "print(best_K)\n",
    "print(best_score)\n",
    "print(best_method)"
   ]
  },
  {
   "cell_type": "code",
   "execution_count": 61,
   "metadata": {},
   "outputs": [],
   "source": [
    "def find_best_K_method_p(K_range,ps):\n",
    "    distance_method = \"\" \n",
    "    best_score = 0.0\n",
    "    best_p = 0\n",
    "    for p in range(1,ps):\n",
    "        for d in ['uniform','distance']:\n",
    "            for i in range(1,K_range):\n",
    "                knn_clf = KNeighborsClassifier(n_neighbors=i,weights=d,p = p)\n",
    "                knn_clf.fit(X_train_transform,y_train)\n",
    "                score = knn_clf.score(X_test_transform,y_test)\n",
    "                if score > best_score:\n",
    "                    best_score = score\n",
    "                    best_method = d\n",
    "                    best_K = i\n",
    "                    best_p = p\n",
    "    return best_K,best_score,best_method,best_p "
   ]
  },
  {
   "cell_type": "code",
   "execution_count": 65,
   "metadata": {},
   "outputs": [
    {
     "name": "stdout",
     "output_type": "stream",
     "text": [
      "4\n",
      "0.9833333333333333\n",
      "distance\n",
      "2\n"
     ]
    }
   ],
   "source": [
    "best_K,best_score,best_method,best_p = find_best_K_method_p(10,4)\n",
    "print(best_K)\n",
    "print(best_score)\n",
    "print(best_method)\n",
    "print(best_p)"
   ]
  },
  {
   "cell_type": "code",
   "execution_count": null,
   "metadata": {},
   "outputs": [],
   "source": []
  }
 ],
 "metadata": {
  "kernelspec": {
   "display_name": "Python 3",
   "language": "python",
   "name": "python3"
  },
  "language_info": {
   "codemirror_mode": {
    "name": "ipython",
    "version": 3
   },
   "file_extension": ".py",
   "mimetype": "text/x-python",
   "name": "python",
   "nbconvert_exporter": "python",
   "pygments_lexer": "ipython3",
   "version": "3.7.0"
  }
 },
 "nbformat": 4,
 "nbformat_minor": 2
}
