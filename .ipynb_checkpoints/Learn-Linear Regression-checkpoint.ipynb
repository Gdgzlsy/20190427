{
 "cells": [
  {
   "cell_type": "code",
   "execution_count": 6,
   "metadata": {},
   "outputs": [],
   "source": [
    "import numpy as np\n",
    "import matplotlib.pyplot as plt\n",
    "from sklearn import datasets"
   ]
  },
  {
   "cell_type": "code",
   "execution_count": 7,
   "metadata": {},
   "outputs": [],
   "source": [
    "boston = datasets.load_boston()\n",
    "X = boston.data\n",
    "y = boston.target"
   ]
  },
  {
   "cell_type": "code",
   "execution_count": 8,
   "metadata": {},
   "outputs": [
    {
     "name": "stdout",
     "output_type": "stream",
     "text": [
      "(506, 13)\n",
      "float64\n",
      "(506,)\n",
      "float64\n"
     ]
    }
   ],
   "source": [
    "print(X.shape)\n",
    "print(X.dtype)\n",
    "print(y.shape)\n",
    "print(y.dtype)"
   ]
  },
  {
   "cell_type": "code",
   "execution_count": 9,
   "metadata": {},
   "outputs": [
    {
     "data": {
      "text/plain": [
       "<matplotlib.collections.PathCollection at 0x2445829a630>"
      ]
     },
     "execution_count": 9,
     "metadata": {},
     "output_type": "execute_result"
    },
    {
     "data": {
      "image/png": "[encoded data removed]",
      "text/plain": [
       "<Figure size 432x288 with 1 Axes>"
      ]
     },
     "metadata": {
      "needs_background": "light"
     },
     "output_type": "display_data"
    }
   ],
   "source": [
    "plt.scatter(range(len(y)),y)"
   ]
  },
  {
   "cell_type": "code",
   "execution_count": 10,
   "metadata": {},
   "outputs": [
    {
     "name": "stdout",
     "output_type": "stream",
     "text": [
      "(404, 13)\n",
      "float64\n",
      "(102, 13)\n",
      "float64\n"
     ]
    }
   ],
   "source": [
    "from sklearn.model_selection import train_test_split\n",
    "X_train,X_test,y_train,y_test = train_test_split(X,y,test_size = 0.2,random_state = 19)\n",
    "print(X_train.shape)\n",
    "print(X_train.dtype)\n",
    "print(X_test.shape)\n",
    "print(X_test.dtype)"
   ]
  },
  {
   "cell_type": "code",
   "execution_count": 11,
   "metadata": {},
   "outputs": [
    {
     "data": {
      "text/plain": [
       "array([[5.05900e-02, 0.00000e+00, 4.49000e+00, ..., 1.85000e+01,\n",
       "        3.96900e+02, 9.62000e+00],\n",
       "       [6.11540e-01, 2.00000e+01, 3.97000e+00, ..., 1.30000e+01,\n",
       "        3.89700e+02, 5.12000e+00],\n",
       "       [2.59406e+01, 0.00000e+00, 1.81000e+01, ..., 2.02000e+01,\n",
       "        1.27360e+02, 2.66400e+01],\n",
       "       ...,\n",
       "       [1.91330e-01, 2.20000e+01, 5.86000e+00, ..., 1.91000e+01,\n",
       "        3.89130e+02, 1.84600e+01],\n",
       "       [1.07930e-01, 0.00000e+00, 8.56000e+00, ..., 2.09000e+01,\n",
       "        3.93490e+02, 1.30000e+01],\n",
       "       [2.87500e-02, 2.80000e+01, 1.50400e+01, ..., 1.82000e+01,\n",
       "        3.96330e+02, 6.21000e+00]])"
      ]
     },
     "execution_count": 11,
     "metadata": {},
     "output_type": "execute_result"
    }
   ],
   "source": [
    "X_train"
   ]
  },
  {
   "cell_type": "code",
   "execution_count": 12,
   "metadata": {},
   "outputs": [],
   "source": [
    "from sklearn.preprocessing import StandardScaler\n",
    "standard = StandardScaler()\n",
    "standard.fit(X_train)\n",
    "X_train_transform = standard.transform(X_train)\n",
    "X_test_transform = standard.transform(X_test)\n"
   ]
  },
  {
   "cell_type": "code",
   "execution_count": 13,
   "metadata": {},
   "outputs": [
    {
     "data": {
      "text/plain": [
       "LinearRegression(copy_X=True, fit_intercept=True, n_jobs=None,\n",
       "         normalize=False)"
      ]
     },
     "execution_count": 13,
     "metadata": {},
     "output_type": "execute_result"
    }
   ],
   "source": [
    "from sklearn.linear_model import LinearRegression\n",
    "\n",
    "lin_reg = LinearRegression()\n",
    "lin_reg.fit(X_train_transform,y_train)"
   ]
  },
  {
   "cell_type": "code",
   "execution_count": 14,
   "metadata": {},
   "outputs": [
    {
     "data": {
      "text/plain": [
       "array([23.02845641, 18.77533714, 16.30252257, 24.78923777, 20.17756466,\n",
       "       19.07197144, 20.73369957, 32.16175518, 20.49347882, 14.23767767,\n",
       "       21.19152467, 28.13140325, 18.0630801 , 15.10801888, 27.41053929,\n",
       "       18.96927814, 22.35915818, 22.39710741, 19.01396283, 33.38130043,\n",
       "       13.25489071, 20.61085566, 32.06902453, 31.41555349, 20.75708072,\n",
       "        9.05405833, 18.16318898, 18.30609266, 16.78478293, 27.5609256 ,\n",
       "       39.66578544, 23.4743595 , 18.45336841, 24.28362244, 24.76616191,\n",
       "       33.67796751, 23.08791052, 22.91034445, 17.330513  , 17.90424331,\n",
       "       20.31261254, 24.31963779, 14.15194089, 31.70465245, 21.72713261,\n",
       "       21.41517756, 27.26065318, 22.11654191, 19.89814431, 14.53714758,\n",
       "       21.99983394, 45.47919142, 14.76747673, 37.31940013, 34.92577641,\n",
       "       15.5376593 , 21.8279348 , 18.50147423, 21.82613925, 10.33905943,\n",
       "       15.21878096, 20.99480817, 13.53882201, 14.21119711, 17.99705064,\n",
       "       15.88747712,  8.35379129, 29.26746106, 26.14406431, 20.15188622,\n",
       "       23.29670018, 23.19540465, 21.50763418, 17.79014712, 15.95758606,\n",
       "       26.2235584 , 22.21541643, 18.87476991, 22.53365179, 24.62145752,\n",
       "       28.19327231, 29.15259871, 25.55156514, 30.64025496, 17.86938913,\n",
       "       23.65800753, 23.01845818, 24.45393946, 34.67044316, 16.78631386,\n",
       "       30.57092152, 32.21138914, 12.74569133, 27.60963907, 34.3874523 ,\n",
       "       36.80308076, 17.11774528, 22.49999272, 19.21050007, 35.77587697,\n",
       "       17.61907582, 18.19952206])"
      ]
     },
     "execution_count": 14,
     "metadata": {},
     "output_type": "execute_result"
    }
   ],
   "source": [
    "y_prediction = lin_reg.predict(X_test_transform)\n",
    "y_prediction"
   ]
  },
  {
   "cell_type": "code",
   "execution_count": 15,
   "metadata": {},
   "outputs": [
    {
     "data": {
      "text/plain": [
       "array([24.7, 15. , 13.4, 24. , 22.9, 12.5, 19.6, 27.5, 17.1, 13.3, 21.7,\n",
       "       24.6, 12.1,  8.4, 36.2, 16.1, 20. , 33. , 17.1, 32. , 15.6, 20.9,\n",
       "       37.2, 41.3, 20.6,  7.2, 20. , 19.9, 15.1, 23.9, 48.8, 21.4, 14.1,\n",
       "       29.6, 22.9, 39.8, 19.2, 21. , 14.9, 13.9, 21.5, 24.4, 19. , 29. ,\n",
       "       21.7, 22.2, 23.3, 20.3, 19.5, 17.2, 50. , 50. , 14.8, 44. , 50. ,\n",
       "       15.6, 20.3, 19.3, 23.2,  8.3, 16.6, 21.4, 13.1, 14.3, 16. , 17.4,\n",
       "       11.9, 34.7, 27.1, 19.3, 24.4, 23. , 22. , 19.9, 13.1, 19.4, 19.8,\n",
       "       16.7, 23. , 29.6, 23.7, 42.8, 23.1, 23.5, 20.8, 50. , 21.7, 21.4,\n",
       "       50. , 14.9, 37. , 28.2, 13.5, 26.6, 43.8, 44.8, 19.4, 22.9, 27.1,\n",
       "       37.6, 18.7, 18.4])"
      ]
     },
     "execution_count": 15,
     "metadata": {},
     "output_type": "execute_result"
    }
   ],
   "source": [
    "y_test"
   ]
  },
  {
   "cell_type": "code",
   "execution_count": 16,
   "metadata": {},
   "outputs": [
    {
     "name": "stdout",
     "output_type": "stream",
     "text": [
      "[-1.05722295  1.39347189 -0.06862316  0.87813472 -1.96789223  2.58849879\n",
      " -0.41777448 -3.33914231  2.34038295 -1.89047858 -1.96015142  0.82621006\n",
      " -3.10570632]\n",
      "22.220049504950506\n"
     ]
    }
   ],
   "source": [
    "print(lin_reg.coef_)\n",
    "print(lin_reg.intercept_)"
   ]
  },
  {
   "cell_type": "code",
   "execution_count": 17,
   "metadata": {},
   "outputs": [
    {
     "name": "stdout",
     "output_type": "stream",
     "text": [
      "35.083140217654396\n",
      "5.923102246091519\n",
      "3.7589800584217397\n",
      "0.6647017039061687\n"
     ]
    }
   ],
   "source": [
    "def MSE(y_test,y_prediction):\n",
    "    return np.sum((y_test-y_prediction)**2)/len(y_test)\n",
    "def RMSE(y_test,y_prediction):\n",
    "    return np.sqrt(MSE(y_test,y_prediction))\n",
    "def MAE(y_test,y_prediction):\n",
    "    return np.sum(np.absolute(y_test-y_prediction))/len(y_test)\n",
    "def R2(y_test,y_prediction):\n",
    "    return 1-(MSE(y_test,y_prediction)/np.var(y_test))\n",
    "\n",
    "mse_1 = MSE(y_test,y_prediction)\n",
    "rmse_1 = RMSE(y_test,y_prediction)\n",
    "mae_1 = MAE(y_test,y_prediction)\n",
    "r2_1 = R2(y_test,y_prediction)\n",
    "\n",
    "\n",
    "print(mse_1)\n",
    "print(rmse_1)\n",
    "print(mae_1)\n",
    "print(r2_1)"
   ]
  },
  {
   "cell_type": "code",
   "execution_count": 18,
   "metadata": {},
   "outputs": [],
   "source": [
    "from sklearn.metrics import mean_squared_error\n",
    "from sklearn.metrics import mean_absolute_error\n",
    "from sklearn.metrics import r2_score"
   ]
  },
  {
   "cell_type": "code",
   "execution_count": 19,
   "metadata": {},
   "outputs": [
    {
     "name": "stdout",
     "output_type": "stream",
     "text": [
      "35.083140217654396\n",
      "5.923102246091519\n",
      "3.7589800584217397\n",
      "0.6647017039061687\n"
     ]
    }
   ],
   "source": [
    "mse_2 = mean_squared_error(y_test,y_prediction)\n",
    "rmse_2 = np.sqrt(mean_squared_error(y_test,y_prediction))\n",
    "mae_2 = mean_absolute_error(y_test,y_prediction)\n",
    "r2_2 = r2_score(y_test,y_prediction)\n",
    "\n",
    "print(mse_2)\n",
    "print(rmse_2)\n",
    "print(mae_2)\n",
    "print(r2_2)"
   ]
  },
  {
   "cell_type": "code",
   "execution_count": 20,
   "metadata": {},
   "outputs": [
    {
     "data": {
      "image/png": "[encoded data removed]",
      "text/plain": [
       "<Figure size 432x288 with 1 Axes>"
      ]
     },
     "metadata": {
      "needs_background": "light"
     },
     "output_type": "display_data"
    }
   ],
   "source": [
    "plt.plot(range(len(y_test)),y_test,'r',color = 'r',label='y_test')\n",
    "plt.plot(range(len(y_prediction)),y_prediction,'r',color = 'b',label='y_predicition')\n",
    "plt.legend()\n",
    "plt.show()"
   ]
  },
  {
   "cell_type": "code",
   "execution_count": null,
   "metadata": {},
   "outputs": [],
   "source": []
  }
 ],
 "metadata": {
  "kernelspec": {
   "display_name": "Python 3",
   "language": "python",
   "name": "python3"
  },
  "language_info": {
   "codemirror_mode": {
    "name": "ipython",
    "version": 3
   },
   "file_extension": ".py",
   "mimetype": "text/x-python",
   "name": "python",
   "nbconvert_exporter": "python",
   "pygments_lexer": "ipython3",
   "version": "3.7.0"
  }
 },
 "nbformat": 4,
 "nbformat_minor": 2
}
