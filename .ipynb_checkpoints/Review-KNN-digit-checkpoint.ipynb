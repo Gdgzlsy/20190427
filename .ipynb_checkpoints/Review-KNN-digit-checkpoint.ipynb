{
 "cells": [
  {
   "cell_type": "code",
   "execution_count": 5,
   "metadata": {},
   "outputs": [],
   "source": [
    "import numpy as np\n",
    "import matplotlib.pyplot as plt"
   ]
  },
  {
   "cell_type": "code",
   "execution_count": 6,
   "metadata": {},
   "outputs": [],
   "source": [
    "from sklearn import datasets"
   ]
  },
  {
   "cell_type": "code",
   "execution_count": 7,
   "metadata": {},
   "outputs": [],
   "source": [
    "digit = datasets.load_digits()\n",
    "X = digit.data\n",
    "y = digit.target"
   ]
  },
  {
   "cell_type": "code",
   "execution_count": 8,
   "metadata": {},
   "outputs": [
    {
     "name": "stdout",
     "output_type": "stream",
     "text": [
      "(1797, 64)\n",
      "float64\n",
      "(1797,)\n",
      "int32\n"
     ]
    }
   ],
   "source": [
    "print(X.shape)\n",
    "print(X.dtype)\n",
    "print(y.shape)\n",
    "print(y.dtype)"
   ]
  },
  {
   "cell_type": "code",
   "execution_count": 9,
   "metadata": {},
   "outputs": [
    {
     "data": {
      "text/plain": [
       "array([[ 0.,  0.,  5., ...,  0.,  0.,  0.],\n",
       "       [ 0.,  0.,  0., ..., 10.,  0.,  0.],\n",
       "       [ 0.,  0.,  0., ..., 16.,  9.,  0.],\n",
       "       ...,\n",
       "       [ 0.,  0.,  1., ...,  6.,  0.,  0.],\n",
       "       [ 0.,  0.,  2., ..., 12.,  0.,  0.],\n",
       "       [ 0.,  0., 10., ..., 12.,  1.,  0.]])"
      ]
     },
     "execution_count": 9,
     "metadata": {},
     "output_type": "execute_result"
    }
   ],
   "source": [
    "X"
   ]
  },
  {
   "cell_type": "code",
   "execution_count": 10,
   "metadata": {},
   "outputs": [
    {
     "data": {
      "text/plain": [
       "array([ 0.,  0.,  0., 12., 13.,  5.,  0.,  0.,  0.,  0.,  0., 11., 16.,\n",
       "        9.,  0.,  0.,  0.,  0.,  3., 15., 16.,  6.,  0.,  0.,  0.,  7.,\n",
       "       15., 16., 16.,  2.,  0.,  0.,  0.,  0.,  1., 16., 16.,  3.,  0.,\n",
       "        0.,  0.,  0.,  1., 16., 16.,  6.,  0.,  0.,  0.,  0.,  1., 16.,\n",
       "       16.,  6.,  0.,  0.,  0.,  0.,  0., 11., 16., 10.,  0.,  0.])"
      ]
     },
     "execution_count": 10,
     "metadata": {},
     "output_type": "execute_result"
    }
   ],
   "source": [
    "X[1]"
   ]
  },
  {
   "cell_type": "raw",
   "metadata": {},
   "source": [
    "X[1].reshape(8,8)"
   ]
  },
  {
   "cell_type": "code",
   "execution_count": 13,
   "metadata": {},
   "outputs": [
    {
     "name": "stdout",
     "output_type": "stream",
     "text": [
      "(1437, 64)\n",
      "float64\n",
      "(1437,)\n",
      "int32\n"
     ]
    }
   ],
   "source": [
    "from sklearn.model_selection import train_test_split\n",
    "X_train,X_test,y_train,y_test = train_test_split(X,y,test_size = 0.2,random_state = 19)\n",
    "print(X_train.shape)\n",
    "print(X_train.dtype)\n",
    "\n",
    "print(y_train.shape)\n",
    "print(y_train.dtype)"
   ]
  },
  {
   "cell_type": "code",
   "execution_count": 14,
   "metadata": {},
   "outputs": [],
   "source": [
    "from sklearn.preprocessing import StandardScaler\n",
    "standard = StandardScaler()\n",
    "standard.fit(X_train)\n",
    "\n",
    "X_train_transform = standard.transform(X_train)\n",
    "X_test_transform = standard.transform(X_test)\n"
   ]
  },
  {
   "cell_type": "code",
   "execution_count": 15,
   "metadata": {},
   "outputs": [
    {
     "data": {
      "text/plain": [
       "KNeighborsClassifier(algorithm='auto', leaf_size=30, metric='minkowski',\n",
       "           metric_params=None, n_jobs=None, n_neighbors=3, p=2,\n",
       "           weights='uniform')"
      ]
     },
     "execution_count": 15,
     "metadata": {},
     "output_type": "execute_result"
    }
   ],
   "source": [
    "from sklearn.neighbors import KNeighborsClassifier\n",
    "knn_clf = KNeighborsClassifier(n_neighbors=3)\n",
    "knn_clf.fit(X_train_transform,y_train)"
   ]
  },
  {
   "cell_type": "code",
   "execution_count": 16,
   "metadata": {},
   "outputs": [
    {
     "data": {
      "text/plain": [
       "0.9805555555555555"
      ]
     },
     "execution_count": 16,
     "metadata": {},
     "output_type": "execute_result"
    }
   ],
   "source": [
    "knn_clf.score(X_test_transform,y_test)"
   ]
  },
  {
   "cell_type": "code",
   "execution_count": 17,
   "metadata": {},
   "outputs": [
    {
     "data": {
      "text/plain": [
       "array([7, 4, 7, 0, 5, 5, 3, 5, 7, 2, 4, 8, 8, 0, 3, 0, 2, 8, 2, 3, 0, 9,\n",
       "       1, 1, 7, 4, 1, 1, 7, 5, 4, 6, 2, 7, 5, 9, 0, 3, 7, 6, 9, 6, 1, 3,\n",
       "       2, 4, 0, 8, 9, 4, 1, 7, 3, 9, 7, 5, 4, 2, 7, 9, 3, 4, 6, 7, 7, 8,\n",
       "       4, 8, 1, 5, 7, 8, 3, 6, 9, 8, 3, 5, 4, 2, 9, 8, 9, 3, 8, 5, 6, 2,\n",
       "       2, 4, 1, 1, 5, 5, 3, 8, 2, 5, 3, 0, 3, 5, 3, 9, 1, 0, 2, 4, 3, 8,\n",
       "       4, 4, 9, 6, 1, 1, 8, 0, 6, 5, 8, 5, 1, 1, 6, 1, 0, 4, 3, 2, 8, 3,\n",
       "       9, 3, 7, 2, 8, 7, 7, 4, 0, 1, 5, 0, 6, 0, 2, 4, 2, 6, 3, 1, 3, 0,\n",
       "       2, 9, 9, 9, 7, 1, 8, 4, 1, 4, 5, 9, 1, 0, 6, 4, 1, 8, 3, 4, 0, 3,\n",
       "       0, 9, 1, 5, 6, 0, 5, 2, 8, 9, 5, 2, 7, 4, 2, 7, 6, 9, 2, 8, 6, 6,\n",
       "       5, 4, 6, 7, 0, 5, 9, 3, 9, 2, 7, 6, 8, 9, 0, 6, 7, 2, 6, 1, 4, 1,\n",
       "       7, 1, 2, 0, 5, 0, 3, 0, 2, 2, 7, 4, 6, 8, 6, 6, 5, 8, 9, 5, 7, 6,\n",
       "       7, 0, 5, 1, 3, 7, 2, 7, 9, 8, 3, 7, 3, 2, 9, 1, 1, 1, 4, 2, 2, 7,\n",
       "       3, 9, 7, 8, 6, 0, 8, 3, 3, 9, 9, 1, 5, 0, 6, 6, 6, 5, 8, 7, 7, 4,\n",
       "       6, 1, 8, 5, 3, 1, 2, 4, 7, 4, 9, 9, 5, 6, 6, 9, 0, 3, 3, 3, 8, 2,\n",
       "       1, 7, 6, 3, 1, 0, 5, 8, 0, 7, 0, 0, 3, 3, 4, 1, 0, 0, 3, 4, 3, 7,\n",
       "       2, 2, 2, 2, 1, 6, 8, 5, 0, 1, 3, 6, 2, 1, 7, 9, 0, 2, 1, 2, 1, 6,\n",
       "       7, 6, 2, 7, 7, 5, 5, 2])"
      ]
     },
     "execution_count": 17,
     "metadata": {},
     "output_type": "execute_result"
    }
   ],
   "source": [
    "knn_clf.predict(X_test_transform)"
   ]
  },
  {
   "cell_type": "code",
   "execution_count": 18,
   "metadata": {},
   "outputs": [
    {
     "data": {
      "text/plain": [
       "array([7, 4, 7, 0, 5, 5, 3, 5, 7, 2, 4, 8, 8, 0, 3, 0, 2, 8, 2, 3, 0, 9,\n",
       "       1, 1, 7, 4, 8, 8, 7, 5, 4, 6, 2, 7, 5, 9, 0, 3, 7, 6, 9, 6, 1, 3,\n",
       "       2, 4, 0, 8, 9, 4, 1, 7, 3, 9, 7, 5, 4, 2, 7, 9, 3, 4, 6, 7, 7, 8,\n",
       "       4, 8, 1, 5, 7, 8, 3, 6, 9, 8, 3, 5, 4, 2, 9, 8, 9, 3, 8, 5, 6, 2,\n",
       "       2, 4, 1, 1, 5, 5, 3, 8, 2, 5, 3, 0, 3, 5, 3, 9, 1, 0, 2, 4, 3, 8,\n",
       "       4, 4, 9, 6, 1, 1, 8, 0, 6, 5, 8, 5, 1, 1, 6, 1, 0, 4, 3, 2, 8, 3,\n",
       "       9, 3, 7, 2, 8, 7, 7, 4, 0, 1, 5, 0, 6, 0, 2, 4, 2, 6, 3, 1, 3, 0,\n",
       "       2, 9, 9, 9, 7, 1, 8, 4, 1, 4, 5, 9, 1, 0, 6, 4, 1, 8, 3, 4, 0, 3,\n",
       "       0, 9, 1, 5, 6, 0, 9, 2, 8, 9, 5, 2, 7, 4, 2, 7, 6, 9, 3, 8, 6, 6,\n",
       "       5, 4, 6, 7, 0, 5, 9, 3, 9, 2, 7, 6, 8, 9, 0, 6, 7, 2, 6, 1, 4, 1,\n",
       "       7, 1, 2, 0, 5, 0, 3, 0, 2, 2, 7, 4, 6, 8, 6, 6, 5, 8, 9, 5, 7, 6,\n",
       "       7, 0, 5, 1, 3, 7, 2, 7, 9, 8, 3, 7, 3, 2, 9, 1, 1, 1, 4, 2, 2, 7,\n",
       "       3, 9, 7, 8, 6, 0, 8, 3, 3, 9, 9, 1, 5, 0, 6, 6, 9, 5, 8, 7, 7, 4,\n",
       "       6, 1, 8, 5, 3, 1, 2, 4, 7, 4, 9, 9, 5, 6, 6, 9, 0, 3, 3, 3, 8, 2,\n",
       "       1, 7, 6, 3, 1, 0, 5, 8, 0, 7, 0, 0, 3, 3, 4, 1, 0, 0, 3, 9, 3, 7,\n",
       "       2, 2, 2, 2, 1, 6, 8, 5, 0, 1, 3, 6, 2, 1, 7, 9, 0, 2, 1, 2, 9, 6,\n",
       "       7, 6, 2, 7, 7, 5, 5, 2])"
      ]
     },
     "execution_count": 18,
     "metadata": {},
     "output_type": "execute_result"
    }
   ],
   "source": [
    "y_test"
   ]
  },
  {
   "cell_type": "markdown",
   "metadata": {},
   "source": [
    "## 使用网格搜索"
   ]
  },
  {
   "cell_type": "code",
   "execution_count": 27,
   "metadata": {},
   "outputs": [],
   "source": [
    "def find_best_K_method_p(K,ps):\n",
    "    best_score = 0\n",
    "    best_K =0\n",
    "    best_method = ''\n",
    "    best_p = 0\n",
    "    for p in range(1,ps):\n",
    "        for d in ['distance','uniform']:\n",
    "            for i in range(1,K):\n",
    "                knn_clf = KNeighborsClassifier(n_neighbors=i,weights = d , p = p)\n",
    "                knn_clf.fit(X_train_transform,y_train)\n",
    "                score = knn_clf.score(X_test_transform,y_test)\n",
    "                if(score  > best_score):\n",
    "                    best_score = score\n",
    "                    best_K = i\n",
    "                    best_method = d\n",
    "                    best_p = p\n",
    "    return best_K,best_score,best_method ,best_p"
   ]
  },
  {
   "cell_type": "code",
   "execution_count": 29,
   "metadata": {},
   "outputs": [
    {
     "name": "stdout",
     "output_type": "stream",
     "text": [
      "4\n",
      "0.9833333333333333\n",
      "distance\n",
      "2\n"
     ]
    }
   ],
   "source": [
    "best_K,best_score ,best_method ,best_p = find_best_K_method_p(10,4)\n",
    "print(best_K)\n",
    "print(best_score)\n",
    "print(best_method)\n",
    "print(best_p)"
   ]
  },
  {
   "cell_type": "code",
   "execution_count": null,
   "metadata": {},
   "outputs": [],
   "source": []
  }
 ],
 "metadata": {
  "kernelspec": {
   "display_name": "Python 3",
   "language": "python",
   "name": "python3"
  },
  "language_info": {
   "codemirror_mode": {
    "name": "ipython",
    "version": 3
   },
   "file_extension": ".py",
   "mimetype": "text/x-python",
   "name": "python",
   "nbconvert_exporter": "python",
   "pygments_lexer": "ipython3",
   "version": "3.7.0"
  }
 },
 "nbformat": 4,
 "nbformat_minor": 2
}
